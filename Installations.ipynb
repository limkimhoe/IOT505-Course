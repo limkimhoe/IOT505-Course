{
 "cells": [
  {
   "cell_type": "markdown",
   "id": "b55bac44-43a2-4ee9-b707-81c91985343f",
   "metadata": {},
   "source": [
    "# Packages to install for IOT505"
   ]
  },
  {
   "cell_type": "code",
   "execution_count": null,
   "id": "82b4e588-9c20-48fe-90d2-79d9f22369a9",
   "metadata": {},
   "outputs": [],
   "source": [
    "!pip install openai"
   ]
  },
  {
   "cell_type": "code",
   "execution_count": null,
   "id": "bad1737f-99a4-45b9-a3ea-7ae53051cb95",
   "metadata": {},
   "outputs": [],
   "source": [
    "!pip install transformers\n",
    "!pip install torch"
   ]
  },
  {
   "cell_type": "code",
   "execution_count": null,
   "id": "7b6796a2-0b23-4653-bbdf-d5f7a6975246",
   "metadata": {},
   "outputs": [],
   "source": [
    "!pip install gensim\n",
    "!pip install nltk\n",
    "!pip install scipy==1.10.1\n",
    "!pip install pandas\n",
    "!pip install numpy"
   ]
  },
  {
   "cell_type": "code",
   "execution_count": null,
   "id": "7f272229-cfdd-4c8d-89c1-e6f9fa21ff5b",
   "metadata": {},
   "outputs": [],
   "source": [
    "import nltk\n",
    "\n",
    "# download the Punkt Sentence Tokenizer Models from the Natural Language Toolkit (NLTK) library\n",
    "nltk.download('punkt')\n",
    "nltk.download('punkt_tab')"
   ]
  },
  {
   "cell_type": "code",
   "execution_count": null,
   "id": "4bd05ce9-300c-4741-be17-9d496008a364",
   "metadata": {},
   "outputs": [],
   "source": [
    "!pip install timm\n",
    "!pip install gradio"
   ]
  },
  {
   "cell_type": "code",
   "execution_count": null,
   "id": "6d05a2b0-ede5-416f-9ebf-ea74959f27cb",
   "metadata": {},
   "outputs": [],
   "source": [
    "!pip install accelerate \n",
    "!pip install sentencepiece"
   ]
  },
  {
   "cell_type": "code",
   "execution_count": null,
   "id": "fcc147b3-39ab-488e-9b4d-fea16444c28b",
   "metadata": {},
   "outputs": [],
   "source": [
    "!pip install scikit-image"
   ]
  },
  {
   "cell_type": "code",
   "execution_count": null,
   "id": "cffd7e27-6c88-4bd7-988a-3c106b41764d",
   "metadata": {},
   "outputs": [],
   "source": [
    "!pip install openai\n",
    "!pip install matplotlib\n",
    "!pip install seaborn"
   ]
  },
  {
   "cell_type": "code",
   "execution_count": null,
   "id": "fdac503f-3bb2-411f-8540-2ca047d8e985",
   "metadata": {},
   "outputs": [],
   "source": [
    "!pip install chromadb openai langchain"
   ]
  },
  {
   "cell_type": "code",
   "execution_count": null,
   "id": "5824a306-f8b1-4033-8a12-16970f5ddf53",
   "metadata": {},
   "outputs": [],
   "source": [
    "!pip install PyMuPDF"
   ]
  },
  {
   "cell_type": "code",
   "execution_count": null,
   "id": "4cb42417-76f2-4996-b986-5d4add36e7f2",
   "metadata": {},
   "outputs": [],
   "source": [
    "!pip install pytesseract\n",
    "!pip install llama_index"
   ]
  },
  {
   "cell_type": "code",
   "execution_count": null,
   "id": "2ae896c6-edc0-406a-96dd-2d03692e4ad6",
   "metadata": {},
   "outputs": [],
   "source": [
    "!pip install smolagents==1.18.0\n",
    "!pip install ddgs"
   ]
  },
  {
   "cell_type": "code",
   "execution_count": null,
   "id": "56cc7475-7de3-432b-90d1-c207e885a177",
   "metadata": {},
   "outputs": [],
   "source": [
    "!pip install torch\n",
    "!pip install langgraph"
   ]
  },
  {
   "cell_type": "code",
   "execution_count": null,
   "id": "eed80f2f-ccd5-4d99-b880-80b68d72d61b",
   "metadata": {},
   "outputs": [],
   "source": [
    "!pip install langchain_openai"
   ]
  },
  {
   "cell_type": "code",
   "execution_count": null,
   "id": "f488fe4d-839e-4091-9e9e-9fa28111f48d",
   "metadata": {},
   "outputs": [],
   "source": [
    "!pip install google-search-results\n",
    "!pip install grandalf\n",
    "!pip install langchain_community"
   ]
  },
  {
   "cell_type": "code",
   "execution_count": null,
   "id": "bb191ffb-0114-4af4-adea-b973b2917733",
   "metadata": {},
   "outputs": [],
   "source": []
  }
 ],
 "metadata": {
  "kernelspec": {
   "display_name": "Python 3 (ipykernel)",
   "language": "python",
   "name": "python3"
  },
  "language_info": {
   "codemirror_mode": {
    "name": "ipython",
    "version": 3
   },
   "file_extension": ".py",
   "mimetype": "text/x-python",
   "name": "python",
   "nbconvert_exporter": "python",
   "pygments_lexer": "ipython3",
   "version": "3.11.13"
  }
 },
 "nbformat": 4,
 "nbformat_minor": 5
}
